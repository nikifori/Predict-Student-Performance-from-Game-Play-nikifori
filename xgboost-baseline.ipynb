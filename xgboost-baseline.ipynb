{
 "cells": [
  {
   "cell_type": "code",
   "execution_count": 51,
   "metadata": {},
   "outputs": [],
   "source": [
    "import pandas as pd\n",
    "import numpy as np"
   ]
  },
  {
   "attachments": {},
   "cell_type": "markdown",
   "metadata": {},
   "source": [
    "# Load Train Data and Labels"
   ]
  },
  {
   "cell_type": "code",
   "execution_count": 52,
   "metadata": {},
   "outputs": [
    {
     "name": "stdout",
     "output_type": "stream",
     "text": [
      "(13174211, 20)\n",
      "          session_id  index  elapsed_time      event_name   name  level  page  \\\n",
      "0  20090312431273200      0             0  cutscene_click  basic      0   NaN   \n",
      "1  20090312431273200      1          1323    person_click  basic      0   NaN   \n",
      "2  20090312431273200      2           831    person_click  basic      0   NaN   \n",
      "3  20090312431273200      3          1147    person_click  basic      0   NaN   \n",
      "4  20090312431273200      4          1863    person_click  basic      0   NaN   \n",
      "\n",
      "   room_coor_x  room_coor_y  screen_coor_x  screen_coor_y  hover_duration  \\\n",
      "0  -413.991405  -159.314686          380.0          494.0             NaN   \n",
      "1  -413.991405  -159.314686          380.0          494.0             NaN   \n",
      "2  -413.991405  -159.314686          380.0          494.0             NaN   \n",
      "3  -413.991405  -159.314686          380.0          494.0             NaN   \n",
      "4  -412.991405  -159.314686          381.0          494.0             NaN   \n",
      "\n",
      "                            text    fqid                       room_fqid  \\\n",
      "0                      undefined   intro  tunic.historicalsociety.closet   \n",
      "1  Whatcha doing over there, Jo?  gramps  tunic.historicalsociety.closet   \n",
      "2         Just talking to Teddy.  gramps  tunic.historicalsociety.closet   \n",
      "3     I gotta run to my meeting!  gramps  tunic.historicalsociety.closet   \n",
      "4            Can I come, Gramps?  gramps  tunic.historicalsociety.closet   \n",
      "\n",
      "                                           text_fqid  fullscreen  hq  music  \\\n",
      "0               tunic.historicalsociety.closet.intro         NaN NaN    NaN   \n",
      "1  tunic.historicalsociety.closet.gramps.intro_0_...         NaN NaN    NaN   \n",
      "2  tunic.historicalsociety.closet.gramps.intro_0_...         NaN NaN    NaN   \n",
      "3  tunic.historicalsociety.closet.gramps.intro_0_...         NaN NaN    NaN   \n",
      "4  tunic.historicalsociety.closet.gramps.intro_0_...         NaN NaN    NaN   \n",
      "\n",
      "  level_group  \n",
      "0         0-4  \n",
      "1         0-4  \n",
      "2         0-4  \n",
      "3         0-4  \n",
      "4         0-4  \n",
      "Wall time: 30.7 s\n"
     ]
    }
   ],
   "source": [
    "%%time\n",
    "\n",
    "train = pd.read_csv(r\".\\predict-student-performance-from-game-play\\train.csv\")\n",
    "print(train.shape)\n",
    "print(train.head())\n"
   ]
  },
  {
   "cell_type": "code",
   "execution_count": 53,
   "metadata": {},
   "outputs": [
    {
     "name": "stdout",
     "output_type": "stream",
     "text": [
      "(212022, 4)\n",
      "             session_id  correct            session  question\n",
      "0  20090312431273200_q1        1  20090312431273200         1\n",
      "1  20090312433251036_q1        0  20090312433251036         1\n",
      "2  20090314121766812_q1        1  20090314121766812         1\n",
      "3  20090314363702160_q1        1  20090314363702160         1\n",
      "4  20090314441803444_q1        1  20090314441803444         1\n"
     ]
    }
   ],
   "source": [
    "targets = pd.read_csv(r\".\\predict-student-performance-from-game-play\\train_labels.csv\")\n",
    "targets[\"session\"] = targets[\"session_id\"].apply(lambda x: int(x.split(\"_\")[0]))\n",
    "targets[\"question\"] = targets[\"session_id\"].apply(lambda x: int(x.split(\"_\")[-1][1:]))\n",
    "print(targets.shape)\n",
    "print(targets.head())\n"
   ]
  },
  {
   "attachments": {},
   "cell_type": "markdown",
   "metadata": {},
   "source": [
    "# Feature Engineering"
   ]
  },
  {
   "cell_type": "code",
   "execution_count": 54,
   "metadata": {},
   "outputs": [],
   "source": [
    "# print unique values\n",
    "# print(train.columns)\n",
    "# for col in train:\n",
    "#     print(col)\n",
    "#     print(train[col].unique())\n"
   ]
  },
  {
   "cell_type": "code",
   "execution_count": 55,
   "metadata": {},
   "outputs": [],
   "source": [
    "CAT_COLS = [\"event_name\", \"fqid\", \"room_fqid\", \"text\"]\n",
    "NUM_COLS = ['elapsed_time','level','page','room_coor_x', 'room_coor_y', \n",
    "            'screen_coor_x', 'screen_coor_y', 'hover_duration']\n",
    "\n",
    "EVENTS = [x for x in train[\"event_name\"].unique()]"
   ]
  },
  {
   "cell_type": "code",
   "execution_count": 56,
   "metadata": {},
   "outputs": [],
   "source": [
    "def feature_engineer(data: pd.DataFrame):\n",
    "    dfs = []\n",
    "    for col in CAT_COLS:\n",
    "        temp = data.groupby([\"session_id\", \"level_group\"])[col].agg(\"nunique\")\n",
    "        temp.name = f\"{temp.name}_nunique\"\n",
    "        dfs.append(temp)\n",
    "    \n",
    "    for col in NUM_COLS:\n",
    "        temp = data.groupby([\"session_id\", \"level_group\"])[col].agg(\"mean\")\n",
    "        temp.name = f\"{temp.name}_mean\"\n",
    "        dfs.append(temp)\n",
    "    \n",
    "    for col in NUM_COLS:\n",
    "        temp = data.groupby([\"session_id\", \"level_group\"])[col].agg(\"std\")\n",
    "        temp.name = f\"{temp.name}_std\"\n",
    "        dfs.append(temp)\n",
    "    \n",
    "    for ev in EVENTS:\n",
    "        data[ev] = (data[\"event_name\"] == ev).astype(\"int8\")    # turn bool series into 0-1 values series\n",
    "    \n",
    "    for ev in EVENTS + [\"elapsed_time\"]:\n",
    "        temp = data.groupby([\"session_id\", \"level_group\"])[ev].agg(\"sum\")\n",
    "        temp.name = f\"{temp.name}_sum\"\n",
    "        dfs.append(temp)\n",
    "    \n",
    "    data = data.drop(EVENTS, axis=1)\n",
    "    df = pd.concat(dfs, axis=1)\n",
    "    df = df.fillna(-1)\n",
    "    df = df.reset_index()\n",
    "    df = df.set_index(\"session_id\")\n",
    "\n",
    "    return df"
   ]
  },
  {
   "cell_type": "code",
   "execution_count": 57,
   "metadata": {},
   "outputs": [
    {
     "name": "stdout",
     "output_type": "stream",
     "text": [
      "(35337, 33)\n",
      "Wall time: 1min 15s\n"
     ]
    },
    {
     "data": {
      "text/html": [
       "<div>\n",
       "<style scoped>\n",
       "    .dataframe tbody tr th:only-of-type {\n",
       "        vertical-align: middle;\n",
       "    }\n",
       "\n",
       "    .dataframe tbody tr th {\n",
       "        vertical-align: top;\n",
       "    }\n",
       "\n",
       "    .dataframe thead th {\n",
       "        text-align: right;\n",
       "    }\n",
       "</style>\n",
       "<table border=\"1\" class=\"dataframe\">\n",
       "  <thead>\n",
       "    <tr style=\"text-align: right;\">\n",
       "      <th></th>\n",
       "      <th>level_group</th>\n",
       "      <th>event_name_nunique</th>\n",
       "      <th>fqid_nunique</th>\n",
       "      <th>room_fqid_nunique</th>\n",
       "      <th>text_nunique</th>\n",
       "      <th>elapsed_time_mean</th>\n",
       "      <th>level_mean</th>\n",
       "      <th>page_mean</th>\n",
       "      <th>room_coor_x_mean</th>\n",
       "      <th>room_coor_y_mean</th>\n",
       "      <th>...</th>\n",
       "      <th>navigate_click_sum</th>\n",
       "      <th>observation_click_sum</th>\n",
       "      <th>notification_click_sum</th>\n",
       "      <th>object_click_sum</th>\n",
       "      <th>object_hover_sum</th>\n",
       "      <th>map_hover_sum</th>\n",
       "      <th>map_click_sum</th>\n",
       "      <th>checkpoint_sum</th>\n",
       "      <th>notebook_click_sum</th>\n",
       "      <th>elapsed_time_sum</th>\n",
       "    </tr>\n",
       "    <tr>\n",
       "      <th>session_id</th>\n",
       "      <th></th>\n",
       "      <th></th>\n",
       "      <th></th>\n",
       "      <th></th>\n",
       "      <th></th>\n",
       "      <th></th>\n",
       "      <th></th>\n",
       "      <th></th>\n",
       "      <th></th>\n",
       "      <th></th>\n",
       "      <th></th>\n",
       "      <th></th>\n",
       "      <th></th>\n",
       "      <th></th>\n",
       "      <th></th>\n",
       "      <th></th>\n",
       "      <th></th>\n",
       "      <th></th>\n",
       "      <th></th>\n",
       "      <th></th>\n",
       "      <th></th>\n",
       "    </tr>\n",
       "  </thead>\n",
       "  <tbody>\n",
       "    <tr>\n",
       "      <th>20090312431273200</th>\n",
       "      <td>0-4</td>\n",
       "      <td>10</td>\n",
       "      <td>30</td>\n",
       "      <td>7</td>\n",
       "      <td>56</td>\n",
       "      <td>8.579356e+04</td>\n",
       "      <td>1.945455</td>\n",
       "      <td>-1.0</td>\n",
       "      <td>7.701275</td>\n",
       "      <td>-71.413749</td>\n",
       "      <td>...</td>\n",
       "      <td>81.0</td>\n",
       "      <td>4</td>\n",
       "      <td>8</td>\n",
       "      <td>11.0</td>\n",
       "      <td>4.0</td>\n",
       "      <td>4.0</td>\n",
       "      <td>2.0</td>\n",
       "      <td>1</td>\n",
       "      <td>0.0</td>\n",
       "      <td>14155937</td>\n",
       "    </tr>\n",
       "    <tr>\n",
       "      <th>20090312431273200</th>\n",
       "      <td>13-22</td>\n",
       "      <td>10</td>\n",
       "      <td>49</td>\n",
       "      <td>12</td>\n",
       "      <td>168</td>\n",
       "      <td>1.040601e+06</td>\n",
       "      <td>17.402381</td>\n",
       "      <td>-1.0</td>\n",
       "      <td>-130.347170</td>\n",
       "      <td>-162.004310</td>\n",
       "      <td>...</td>\n",
       "      <td>170.0</td>\n",
       "      <td>3</td>\n",
       "      <td>10</td>\n",
       "      <td>20.0</td>\n",
       "      <td>13.0</td>\n",
       "      <td>14.0</td>\n",
       "      <td>6.0</td>\n",
       "      <td>1</td>\n",
       "      <td>0.0</td>\n",
       "      <td>437052322</td>\n",
       "    </tr>\n",
       "    <tr>\n",
       "      <th>20090312431273200</th>\n",
       "      <td>5-12</td>\n",
       "      <td>10</td>\n",
       "      <td>39</td>\n",
       "      <td>11</td>\n",
       "      <td>124</td>\n",
       "      <td>3.572052e+05</td>\n",
       "      <td>8.054054</td>\n",
       "      <td>-1.0</td>\n",
       "      <td>14.306062</td>\n",
       "      <td>-57.269322</td>\n",
       "      <td>...</td>\n",
       "      <td>103.0</td>\n",
       "      <td>1</td>\n",
       "      <td>9</td>\n",
       "      <td>28.0</td>\n",
       "      <td>21.0</td>\n",
       "      <td>9.0</td>\n",
       "      <td>8.0</td>\n",
       "      <td>1</td>\n",
       "      <td>0.0</td>\n",
       "      <td>105732736</td>\n",
       "    </tr>\n",
       "    <tr>\n",
       "      <th>20090312433251036</th>\n",
       "      <td>0-4</td>\n",
       "      <td>11</td>\n",
       "      <td>22</td>\n",
       "      <td>6</td>\n",
       "      <td>49</td>\n",
       "      <td>9.763342e+04</td>\n",
       "      <td>1.870504</td>\n",
       "      <td>0.0</td>\n",
       "      <td>-84.045960</td>\n",
       "      <td>-53.671082</td>\n",
       "      <td>...</td>\n",
       "      <td>49.0</td>\n",
       "      <td>2</td>\n",
       "      <td>5</td>\n",
       "      <td>15.0</td>\n",
       "      <td>5.0</td>\n",
       "      <td>3.0</td>\n",
       "      <td>3.0</td>\n",
       "      <td>1</td>\n",
       "      <td>2.0</td>\n",
       "      <td>13571045</td>\n",
       "    </tr>\n",
       "    <tr>\n",
       "      <th>20090312433251036</th>\n",
       "      <td>13-22</td>\n",
       "      <td>11</td>\n",
       "      <td>73</td>\n",
       "      <td>16</td>\n",
       "      <td>183</td>\n",
       "      <td>2.498852e+06</td>\n",
       "      <td>17.762529</td>\n",
       "      <td>5.1</td>\n",
       "      <td>-30.762282</td>\n",
       "      <td>-142.861892</td>\n",
       "      <td>...</td>\n",
       "      <td>637.0</td>\n",
       "      <td>5</td>\n",
       "      <td>14</td>\n",
       "      <td>83.0</td>\n",
       "      <td>66.0</td>\n",
       "      <td>186.0</td>\n",
       "      <td>45.0</td>\n",
       "      <td>1</td>\n",
       "      <td>50.0</td>\n",
       "      <td>3241011333</td>\n",
       "    </tr>\n",
       "  </tbody>\n",
       "</table>\n",
       "<p>5 rows × 33 columns</p>\n",
       "</div>"
      ],
      "text/plain": [
       "                  level_group  event_name_nunique  fqid_nunique  \\\n",
       "session_id                                                        \n",
       "20090312431273200         0-4                  10            30   \n",
       "20090312431273200       13-22                  10            49   \n",
       "20090312431273200        5-12                  10            39   \n",
       "20090312433251036         0-4                  11            22   \n",
       "20090312433251036       13-22                  11            73   \n",
       "\n",
       "                   room_fqid_nunique  text_nunique  elapsed_time_mean  \\\n",
       "session_id                                                              \n",
       "20090312431273200                  7            56       8.579356e+04   \n",
       "20090312431273200                 12           168       1.040601e+06   \n",
       "20090312431273200                 11           124       3.572052e+05   \n",
       "20090312433251036                  6            49       9.763342e+04   \n",
       "20090312433251036                 16           183       2.498852e+06   \n",
       "\n",
       "                   level_mean  page_mean  room_coor_x_mean  room_coor_y_mean  \\\n",
       "session_id                                                                     \n",
       "20090312431273200    1.945455       -1.0          7.701275        -71.413749   \n",
       "20090312431273200   17.402381       -1.0       -130.347170       -162.004310   \n",
       "20090312431273200    8.054054       -1.0         14.306062        -57.269322   \n",
       "20090312433251036    1.870504        0.0        -84.045960        -53.671082   \n",
       "20090312433251036   17.762529        5.1        -30.762282       -142.861892   \n",
       "\n",
       "                   ...  navigate_click_sum  observation_click_sum  \\\n",
       "session_id         ...                                              \n",
       "20090312431273200  ...                81.0                      4   \n",
       "20090312431273200  ...               170.0                      3   \n",
       "20090312431273200  ...               103.0                      1   \n",
       "20090312433251036  ...                49.0                      2   \n",
       "20090312433251036  ...               637.0                      5   \n",
       "\n",
       "                   notification_click_sum  object_click_sum  object_hover_sum  \\\n",
       "session_id                                                                      \n",
       "20090312431273200                       8              11.0               4.0   \n",
       "20090312431273200                      10              20.0              13.0   \n",
       "20090312431273200                       9              28.0              21.0   \n",
       "20090312433251036                       5              15.0               5.0   \n",
       "20090312433251036                      14              83.0              66.0   \n",
       "\n",
       "                   map_hover_sum  map_click_sum  checkpoint_sum  \\\n",
       "session_id                                                        \n",
       "20090312431273200            4.0            2.0               1   \n",
       "20090312431273200           14.0            6.0               1   \n",
       "20090312431273200            9.0            8.0               1   \n",
       "20090312433251036            3.0            3.0               1   \n",
       "20090312433251036          186.0           45.0               1   \n",
       "\n",
       "                   notebook_click_sum  elapsed_time_sum  \n",
       "session_id                                               \n",
       "20090312431273200                 0.0          14155937  \n",
       "20090312431273200                 0.0         437052322  \n",
       "20090312431273200                 0.0         105732736  \n",
       "20090312433251036                 2.0          13571045  \n",
       "20090312433251036                50.0        3241011333  \n",
       "\n",
       "[5 rows x 33 columns]"
      ]
     },
     "execution_count": 57,
     "metadata": {},
     "output_type": "execute_result"
    }
   ],
   "source": [
    "%%time\n",
    "refined_train = feature_engineer(train)\n",
    "print(refined_train.shape)\n",
    "refined_train.head()\n"
   ]
  },
  {
   "attachments": {},
   "cell_type": "markdown",
   "metadata": {},
   "source": [
    "# Train XGBoost Model"
   ]
  },
  {
   "cell_type": "code",
   "execution_count": 58,
   "metadata": {},
   "outputs": [
    {
     "name": "stdout",
     "output_type": "stream",
     "text": [
      "Number of features is: 32\n",
      "Number of users is: 11779\n"
     ]
    }
   ],
   "source": [
    "FEATURES = [col for col in refined_train.columns if col != \"level_group\"]\n",
    "print(f\"Number of features is: {len(FEATURES)}\")\n",
    "ALL_USERS = refined_train.index.unique()\n",
    "print(f\"Number of users is: {len(ALL_USERS)}\")"
   ]
  },
  {
   "cell_type": "code",
   "execution_count": 59,
   "metadata": {},
   "outputs": [],
   "source": [
    "from sklearn.model_selection import KFold, GroupKFold\n",
    "from xgboost import XGBClassifier\n",
    "from sklearn.metrics import f1_score\n",
    "from tqdm import tqdm"
   ]
  },
  {
   "cell_type": "code",
   "execution_count": 60,
   "metadata": {},
   "outputs": [
    {
     "name": "stderr",
     "output_type": "stream",
     "text": [
      "0it [00:00, ?it/s]"
     ]
    },
    {
     "name": "stdout",
     "output_type": "stream",
     "text": [
      "#=#=#=#=#=#=#=#=#=#=#=#=#=#=#=#=#=#=#=#=\n",
      "#=#=#=#=#=#=#=#=#=  1  #=#=#=#=#=#=#=#=#=\n",
      "#=#=#=#=#=#=#=#=#=#=#=#=#=#=#=#=#=#=#=#=\n",
      "1(134), 2(123), 3(94), 4(279), 5(85), 6(204), 7(127), 8(79), 9(97), 10(206), 11(213), 12(68), 13(165), 14(134), 15(141), 16(70), 17(65), "
     ]
    },
    {
     "name": "stderr",
     "output_type": "stream",
     "text": [
      "1it [00:09,  9.28s/it]"
     ]
    },
    {
     "name": "stdout",
     "output_type": "stream",
     "text": [
      "18(132), #=#=#=#=#=#=#=#=#=#=#=#=#=#=#=#=#=#=#=#=\n",
      "#=#=#=#=#=#=#=#=#=  2  #=#=#=#=#=#=#=#=#=\n",
      "#=#=#=#=#=#=#=#=#=#=#=#=#=#=#=#=#=#=#=#=\n",
      "1(136), 2(105), 3(125), 4(109), 5(86), 6(174), 7(117), 8(66), 9(112), 10(160), 11(68), 12(84), 13(74), 14(152), 15(186), 16(85), 17(40), "
     ]
    },
    {
     "name": "stderr",
     "output_type": "stream",
     "text": [
      "2it [00:18,  9.19s/it]"
     ]
    },
    {
     "name": "stdout",
     "output_type": "stream",
     "text": [
      "18(102), #=#=#=#=#=#=#=#=#=#=#=#=#=#=#=#=#=#=#=#=\n",
      "#=#=#=#=#=#=#=#=#=  3  #=#=#=#=#=#=#=#=#=\n",
      "#=#=#=#=#=#=#=#=#=#=#=#=#=#=#=#=#=#=#=#=\n",
      "1(54), 2(131), 3(97), 4(168), 5(66), 6(74), 7(80), 8(56), 9(150), 10(110), 11(72), 12(74), 13(153), 14(166), 15(133), 16(88), 17(84), "
     ]
    },
    {
     "name": "stderr",
     "output_type": "stream",
     "text": [
      "3it [00:26,  8.58s/it]"
     ]
    },
    {
     "name": "stdout",
     "output_type": "stream",
     "text": [
      "18(117), #=#=#=#=#=#=#=#=#=#=#=#=#=#=#=#=#=#=#=#=\n",
      "#=#=#=#=#=#=#=#=#=  4  #=#=#=#=#=#=#=#=#=\n",
      "#=#=#=#=#=#=#=#=#=#=#=#=#=#=#=#=#=#=#=#=\n",
      "1(161), 2(122), 3(111), 4(134), 5(154), 6(122), 7(168), 8(46), 9(63), 10(92), 11(85), 12(99), 13(90), 14(123), 15(162), 16(45), 17(82), "
     ]
    },
    {
     "name": "stderr",
     "output_type": "stream",
     "text": [
      "4it [00:35,  8.86s/it]"
     ]
    },
    {
     "name": "stdout",
     "output_type": "stream",
     "text": [
      "18(151), #=#=#=#=#=#=#=#=#=#=#=#=#=#=#=#=#=#=#=#=\n",
      "#=#=#=#=#=#=#=#=#=  5  #=#=#=#=#=#=#=#=#=\n",
      "#=#=#=#=#=#=#=#=#=#=#=#=#=#=#=#=#=#=#=#=\n",
      "1(147), 2(151), 3(94), 4(78), 5(156), 6(144), 7(134), 8(50), 9(147), 10(138), 11(60), 12(79), 13(123), 14(128), 15(232), 16(98), 17(98), "
     ]
    },
    {
     "name": "stderr",
     "output_type": "stream",
     "text": [
      "5it [00:44,  8.95s/it]"
     ]
    },
    {
     "name": "stdout",
     "output_type": "stream",
     "text": [
      "18(71), "
     ]
    },
    {
     "name": "stderr",
     "output_type": "stream",
     "text": [
      "\n"
     ]
    }
   ],
   "source": [
    "gkf = GroupKFold(n_splits=5)\n",
    "oof = pd.DataFrame(data=np.zeros((len(ALL_USERS), 18)), index=ALL_USERS)\n",
    "models = {}\n",
    "\n",
    "# 5 Group K fold\n",
    "for i, (train_index, test_index) in tqdm(enumerate(gkf.split(X=refined_train, groups=refined_train.index))):\n",
    "    print(\"#=\" * 20)\n",
    "    print(\"#=\" * 9, f\" {i+1} \", \"#=\" * 9)\n",
    "    print(\"#=\" * 20)\n",
    "\n",
    "    xgb_params = {\n",
    "    'objective' : 'binary:logistic',\n",
    "    'eval_metric':'logloss',\n",
    "    'learning_rate': 0.05,\n",
    "    'max_depth': 4,\n",
    "    'n_estimators': 1000,\n",
    "    'early_stopping_rounds': 50,\n",
    "    'tree_method':'hist',\n",
    "    'subsample':0.8,\n",
    "    'colsample_bytree': 0.4,\n",
    "    'use_label_encoder' : False}\n",
    "\n",
    "    # Iterate through question 1 to 18\n",
    "    for q in range(1, 19):\n",
    "\n",
    "        # Use the respective dataset\n",
    "        if q <= 3: grp = '0-4'\n",
    "        elif q <= 13: grp = '5-12'\n",
    "        elif q <= 22: grp = '13-22'\n",
    "\n",
    "        # Train data\n",
    "        train_x = refined_train.iloc[train_index]\n",
    "        train_x = train_x.loc[train_x[\"level_group\"] == grp]\n",
    "        train_users = train_x.index.values\n",
    "        train_y = targets.loc[targets[\"question\"] == q].set_index(\"session\").loc[train_users]\n",
    "\n",
    "        # Valid data\n",
    "        valid_x = refined_train.iloc[test_index]\n",
    "        valid_x = valid_x.loc[valid_x[\"level_group\"] == grp]\n",
    "        valid_users = valid_x.index.values\n",
    "        valid_y = targets.loc[targets[\"question\"] == q].set_index(\"session\").loc[valid_users]\n",
    "\n",
    "        # Train model\n",
    "        clf = XGBClassifier(**xgb_params)\n",
    "        clf.fit(train_x[FEATURES].astype(\"float32\"), train_y[\"correct\"], eval_set=[(valid_x[FEATURES].astype(\"float32\"), valid_y[\"correct\"])], verbose = 0)\n",
    "\n",
    "        print(f\"{q}({clf.best_ntree_limit}), \",end = \"\")\n",
    "\n",
    "        # Save model\n",
    "        models[f\"{grp}_{q}\"] = clf\n",
    "        oof.loc[valid_users, q-1] = clf.predict_proba(valid_x[FEATURES].astype(\"float32\"))[:, 1]"
   ]
  },
  {
   "attachments": {},
   "cell_type": "markdown",
   "metadata": {},
   "source": [
    "# Compute CV Score"
   ]
  },
  {
   "cell_type": "code",
   "execution_count": 61,
   "metadata": {},
   "outputs": [],
   "source": [
    "true_labels = oof.copy()\n",
    "for q in range(18):\n",
    "    temp = targets.loc[targets[\"question\"] == q + 1].set_index(\"session\").loc[ALL_USERS]\n",
    "    true_labels[q] = temp[\"correct\"].values"
   ]
  },
  {
   "cell_type": "code",
   "execution_count": 62,
   "metadata": {},
   "outputs": [
    {
     "name": "stdout",
     "output_type": "stream",
     "text": [
      "0.40 F1 is: 0.59\n",
      "0.41 F1 is: 0.60\n",
      "0.42 F1 is: 0.60\n",
      "0.43 F1 is: 0.61\n",
      "0.44 F1 is: 0.62\n",
      "0.45 F1 is: 0.62\n",
      "0.46 F1 is: 0.63\n",
      "0.47 F1 is: 0.63\n",
      "0.48 F1 is: 0.64\n",
      "0.49 F1 is: 0.64\n",
      "0.50 F1 is: 0.64\n",
      "0.51 F1 is: 0.65\n",
      "0.52 F1 is: 0.65\n",
      "0.53 F1 is: 0.66\n",
      "0.54 F1 is: 0.66\n",
      "0.55 F1 is: 0.66\n",
      "0.56 F1 is: 0.67\n",
      "0.57 F1 is: 0.67\n",
      "0.58 F1 is: 0.67\n",
      "0.59 F1 is: 0.67\n",
      "0.60 F1 is: 0.68\n",
      "0.61 F1 is: 0.68\n",
      "0.62 F1 is: 0.68\n",
      "0.63 F1 is: 0.68\n",
      "0.64 F1 is: 0.68\n",
      "0.65 F1 is: 0.68\n",
      "0.66 F1 is: 0.67\n",
      "0.67 F1 is: 0.67\n",
      "0.68 F1 is: 0.67\n",
      "0.69 F1 is: 0.66\n",
      "0.70 F1 is: 0.66\n",
      "0.71 F1 is: 0.65\n",
      "0.72 F1 is: 0.65\n",
      "0.73 F1 is: 0.64\n",
      "0.74 F1 is: 0.63\n",
      "0.75 F1 is: 0.62\n",
      "0.76 F1 is: 0.61\n",
      "0.77 F1 is: 0.61\n",
      "0.78 F1 is: 0.60\n",
      "0.79 F1 is: 0.59\n",
      "0.80 F1 is: 0.58\n"
     ]
    }
   ],
   "source": [
    "# Find the best threshhold to convert probabilities into 0s and 1s\n",
    "scores = []\n",
    "thresholds = []\n",
    "best_score = 0\n",
    "optimum_thresh = 0\n",
    "\n",
    "for threshold in np.arange(0.4, 0.81, 0.01):\n",
    "    preds = (oof.values.reshape(-1) > threshold).astype(\"int\")\n",
    "    m = f1_score(true_labels.values.reshape(-1), preds, average=\"macro\")\n",
    "    scores.append(m)\n",
    "    thresholds.append(threshold)\n",
    "\n",
    "    if m > best_score:\n",
    "        best_score = m\n",
    "        optimum_thresh = threshold\n",
    "\n",
    "    print(f\"{threshold:.02f} F1 is: {m:.02f}\")"
   ]
  },
  {
   "cell_type": "code",
   "execution_count": 63,
   "metadata": {},
   "outputs": [
    {
     "data": {
      "text/plain": [
       "Text(0.6300000000000002, 0.6685462455724889, '(0.630, 0.679)')"
      ]
     },
     "execution_count": 63,
     "metadata": {},
     "output_type": "execute_result"
    },
    {
     "data": {
      "image/png": "[encoded data removed]",
      "text/plain": [
       "<Figure size 1440x360 with 1 Axes>"
      ]
     },
     "metadata": {
      "needs_background": "light"
     },
     "output_type": "display_data"
    }
   ],
   "source": [
    "# Plot f1 score and threshold respectively\n",
    "import matplotlib.pyplot as plt\n",
    "\n",
    "plt.figure(figsize=(20, 5))\n",
    "plt.plot(thresholds, scores, \"-o\", color=\"blue\")\n",
    "plt.scatter([optimum_thresh], [best_score], color=\"red\", s=300, alpha=1)\n",
    "plt.xlabel(\"Threshold\", size=14)\n",
    "plt.ylabel(\"Validation F1 Score\", size=14)\n",
    "plt.title(f\"Threshold VS F1 Score\")\n",
    "plt.text(x=optimum_thresh, y=(best_score - 0.01), s=f\"({optimum_thresh:.3f}, {best_score:.3f})\")"
   ]
  },
  {
   "cell_type": "code",
   "execution_count": 64,
   "metadata": {},
   "outputs": [
    {
     "name": "stdout",
     "output_type": "stream",
     "text": [
      "F1_Q1 is: 0.592855843528205\n",
      "F1_Q2 is: 0.4946153516111039\n",
      "F1_Q3 is: 0.48973998380435246\n",
      "F1_Q4 is: 0.612440868907625\n",
      "F1_Q5 is: 0.572710485478007\n",
      "F1_Q6 is: 0.6093047271703211\n",
      "F1_Q7 is: 0.5935265231876988\n",
      "F1_Q8 is: 0.5255075501274166\n",
      "F1_Q9 is: 0.6043634834136493\n",
      "F1_Q10 is: 0.5099760312395695\n",
      "F1_Q11 is: 0.5946438945442235\n",
      "F1_Q12 is: 0.49610501048311995\n",
      "F1_Q13 is: 0.43627328411924765\n",
      "F1_Q14 is: 0.6053149803699469\n",
      "F1_Q15 is: 0.5133400547607433\n",
      "F1_Q16 is: 0.4566360258669387\n",
      "F1_Q17 is: 0.5457541644806447\n",
      "F1_Q18 is: 0.49052080932415365\n",
      "Overal F1 score is: 0.6785462455724889\n"
     ]
    }
   ],
   "source": [
    "# Compute F1 score for each and every question separately\n",
    "for q in range(18):\n",
    "    m = f1_score(true_labels.iloc[:, q].values, (oof.iloc[:, q].values > optimum_thresh).astype(\"int\"), average=\"macro\")\n",
    "    print(f\"F1_Q{q + 1} is: {m}\")\n",
    "\n",
    "ov_m = m = f1_score(true_labels.values.reshape(-1), (oof.values.reshape(-1) > optimum_thresh).astype(\"int\"), average='macro')\n",
    "print(f\"Overal F1 score is: {ov_m}\")"
   ]
  },
  {
   "cell_type": "code",
   "execution_count": null,
   "metadata": {},
   "outputs": [],
   "source": []
  }
 ],
 "metadata": {
  "kernelspec": {
   "display_name": "Python 3",
   "language": "python",
   "name": "python3"
  },
  "language_info": {
   "codemirror_mode": {
    "name": "ipython",
    "version": 3
   },
   "file_extension": ".py",
   "mimetype": "text/x-python",
   "name": "python",
   "nbconvert_exporter": "python",
   "pygments_lexer": "ipython3",
   "version": "3.7.9"
  },
  "orig_nbformat": 4
 },
 "nbformat": 4,
 "nbformat_minor": 2
}
